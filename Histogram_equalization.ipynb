{
 "cells": [
  {
   "cell_type": "code",
   "execution_count": null,
   "metadata": {},
   "outputs": [],
   "source": [
    "import cv2\n",
    "import matplotlib.pyplot as plt\n",
    "\n",
    "filename='./qianbaoguang.png'\n",
    "img=cv2.imread(filename)\n",
    "grey=cv2.cvtColor(img,cv2.COLOR_BGR2GRAY)\n",
    "grey=cv2.resize(grey,(600,400))\n",
    "\n",
    "eq = cv2.equalizeHist(grey)#灰度图片直方图均衡化\n",
    "cv2.imshow('image1',img)\n",
    "cv2.imshow('image2',eq)\n",
    "cv2.waitKey(0)\n",
    "cv2.destroyAllWindows()"
   ]
  },
  {
   "cell_type": "code",
   "execution_count": null,
   "metadata": {},
   "outputs": [],
   "source": [
    "#coding=utf-8\n",
    "import cv2\n",
    "import numpy as np\n",
    "\n",
    "image = cv2.imread(\"./qianbaoguang.png\", 0)\n",
    "lut = np.zeros(256, dtype = image.dtype )#创建空的查找表\n",
    "hist= cv2.calcHist([image], #计算图像的直方图\n",
    "    [0], #使用的通道\n",
    "    None, #没有使用mask\n",
    "    [256], #it is a 1D histogram\n",
    "    [0.0,255.0])\n",
    "minBinNo, maxBinNo = 0, 255\n",
    "\n",
    " #计算从左起第一个不为0的直方图柱的位置\n",
    "for binNo, binValue in enumerate(hist):\n",
    "    if binValue != 0:\n",
    "        minBinNo = binNo\n",
    "        break\n",
    "\n",
    "#计算从右起第一个不为0的直方图柱的位置\n",
    "for binNo, binValue in enumerate(reversed(hist)):\n",
    "    if binValue != 0:\n",
    "        maxBinNo = 255-binNo\n",
    "        break\n",
    "print(minBinNo, maxBinNo)\n",
    "#生成查找表，方法来自参考文献1第四章第2节\n",
    "for i,v in enumerate(lut):\n",
    "    if i < minBinNo:\n",
    "        lut[i] = 0\n",
    "    elif i > maxBinNo:\n",
    "        lut[i] = 255\n",
    "    else:\n",
    "        lut[i] = int(255.0*(i-minBinNo)/(maxBinNo-minBinNo)+0.5)\n",
    "#计算\n",
    "result = cv2.LUT(image, lut)\n",
    "cv2.imshow(\"Result\", result)\n",
    "cv2.imwrite(\"LutImage.jpg\", result)\n",
    "cv2.waitKey(0)\n",
    "cv2.destroyAllWindows()"
   ]
  },
  {
   "cell_type": "code",
   "execution_count": null,
   "metadata": {},
   "outputs": [],
   "source": [
    "hist = cv2.calcHist([image],[0],None,[256],[0,255])\n",
    "plt.plot(hist,'r')\n",
    "plt.show()"
   ]
  },
  {
   "cell_type": "code",
   "execution_count": null,
   "metadata": {},
   "outputs": [],
   "source": [
    "import cv2\n",
    "import matplotlib.pyplot as plt\n",
    "\n",
    "filename='./qianbaoguang.png'\n",
    "img=cv2.imread(filename)\n",
    "grey=cv2.cvtColor(img,cv2.COLOR_BGR2GRAY)\n",
    "grey=cv2.resize(grey,(600,400))\n",
    "\n",
    "hist = cv2.calcHist([grey],[0],None,[256],[0,255])\n",
    "plt.plot(hist,'r')\n",
    "plt.show()"
   ]
  },
  {
   "cell_type": "code",
   "execution_count": null,
   "metadata": {},
   "outputs": [],
   "source": [
    "import numpy as np\n",
    "import matplotlib.pyplot as plt\n",
    "from PIL import Image\n",
    "\n",
    "img=np.array(Image.open('./qianbaoguang.png').convert('L')) #模式L为灰色图像\n",
    "plt.figure(\"image\")\n",
    "arr=img.flatten()#折叠成一维的数组\n",
    "n,bins,patches=plt.hist(arr,bins=256,alpha=0.75)\n",
    "plt.show()"
   ]
  },
  {
   "cell_type": "code",
   "execution_count": null,
   "metadata": {},
   "outputs": [],
   "source": [
    "from skimage import data,exposure\n",
    "import matplotlib.pyplot as plt\n",
    "img=data.moon()\n",
    "plt.figure(\"hist\",figsize=(8,8))\n",
    "\n",
    "arr=img.flatten()\n",
    "plt.subplot(221)\n",
    "plt.imshow(img,plt.cm.gray)  #原始图像\n",
    "plt.subplot(222)\n",
    "plt.hist(arr, bins=256, normed=1,edgecolor='None',facecolor='red') #原始图像直方图\n",
    "\n",
    "img1=exposure.equalize_hist(img)\n",
    "arr1=img1.flatten()\n",
    "plt.subplot(223)\n",
    "plt.imshow(img1,plt.cm.gray)  #均衡化图像\n",
    "plt.subplot(224)\n",
    "plt.hist(arr1, bins=256, normed=1,edgecolor='None',facecolor='red') #均衡化直方图\n",
    "\n",
    "plt.show()"
   ]
  },
  {
   "cell_type": "code",
   "execution_count": null,
   "metadata": {},
   "outputs": [],
   "source": [
    "%matplotlib inline\n",
    "from matplotlib import pyplot as plt\n",
    "import cv2\n",
    "import numpy as np\n",
    "\n",
    "img = cv2.imread('./guobaoguang.jpeg')\n",
    "\n",
    "img_gray = cv2.cvtColor(img, cv2.COLOR_BGR2GRAY)\n",
    "\n",
    "plt.imshow(img_gray, cmap=plt.cm.gray)\n",
    "\n",
    "hist = cv2.calcHist([img_gray], [0], None, [256], [0, 256])\n",
    "\n",
    "plt.figure()\n",
    "plt.title(\"Grayscale Histogram\")\n",
    "plt.xlabel(\"Bins\")\n",
    "plt.ylabel(\"# of Pixels\")\n",
    "plt.plot(hist)\n",
    "plt.xlim([0, 256])\n",
    "plt.show()"
   ]
  },
  {
   "cell_type": "markdown",
   "metadata": {},
   "source": [
    "# 两个图片的像素分布连接在一起，拍成一维数组,图片拼成一幅图"
   ]
  },
  {
   "cell_type": "code",
   "execution_count": null,
   "metadata": {},
   "outputs": [],
   "source": [
    "%matplotlib inline\n",
    "import cv2\n",
    "import numpy as np\n",
    "from matplotlib import pyplot as plt\n",
    "\n",
    "img = cv2.imread('./guobaoguang.jpeg',0)\n",
    "# histogram equalization\n",
    "equ = cv2.equalizeHist(img)\n",
    "# 两个图片的像素分布连接在一起，拍成一维数组\n",
    "res = np.hstack((img,equ))\n",
    "\n",
    "plt.figure(figsize=(8, 6))\n",
    "ax1 = plt.subplot2grid((2,2),(0, 0))\n",
    "ax1.imshow(img, cmap=plt.cm.gray)\n",
    "ax1.set_title('orignal image')\n",
    "\n",
    "ax1 = plt.subplot2grid((2, 2), (0, 1))\n",
    "ax1.imshow(equ, cmap=plt.cm.gray)\n",
    "ax1.set_title('equalization')\n",
    "\n",
    "ax1 = plt.subplot2grid((2, 2), (1, 0), colspan=3, rowspan=1)\n",
    "ax1.imshow(res, cmap=plt.cm.gray)\n",
    "ax1.set_title('horizational')\n",
    "\n",
    "plt.tight_layout()\n",
    "plt.show()"
   ]
  },
  {
   "cell_type": "code",
   "execution_count": null,
   "metadata": {},
   "outputs": [],
   "source": [
    "#coding:utf8\n",
    "import cv2\n",
    "import numpy as np\n",
    "\n",
    "img = cv2.imread(\"./qianbaoguang.png\", 1)\n",
    "(b, g, r) = cv2.split(img)\n",
    "bH = cv2.equalizeHist(b)\n",
    "gH = cv2.equalizeHist(g)\n",
    "rH = cv2.equalizeHist(r)\n",
    "result = cv2.merge((bH, gH, rH))\n",
    "cv2.imshow(\"dst\", result)\n",
    "#cv2.imwrite(\"欠曝光直方图均衡.jpg\",result)\n",
    "cv2.waitKey(0)\n",
    "cv2.destroyAllWindows()"
   ]
  },
  {
   "cell_type": "code",
   "execution_count": null,
   "metadata": {},
   "outputs": [],
   "source": [
    "img = cv2.imread(\"./guobaoguang.jpeg\", 1)\n",
    "(b, g, r) = cv2.split(img)\n",
    "bH = cv2.equalizeHist(b)\n",
    "gH = cv2.equalizeHist(g)\n",
    "rH = cv2.equalizeHist(r)\n",
    "result = cv2.merge((bH, gH, rH))\n",
    "cv2.imshow(\"dst\", result)\n",
    "cv2.imwrite(\"过曝光直方图均衡.jpg\",result)\n",
    "cv2.waitKey(0)"
   ]
  }
 ],
 "metadata": {
  "kernelspec": {
   "display_name": "Python 3",
   "language": "python",
   "name": "python3"
  },
  "language_info": {
   "codemirror_mode": {
    "name": "ipython",
    "version": 3
   },
   "file_extension": ".py",
   "mimetype": "text/x-python",
   "name": "python",
   "nbconvert_exporter": "python",
   "pygments_lexer": "ipython3",
   "version": "3.6.5"
  }
 },
 "nbformat": 4,
 "nbformat_minor": 2
}
