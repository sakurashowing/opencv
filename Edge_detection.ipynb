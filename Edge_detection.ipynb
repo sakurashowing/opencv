{
 "cells": [
  {
   "cell_type": "code",
   "execution_count": null,
   "metadata": {},
   "outputs": [],
   "source": [
    "#coding:utf8\n",
    "import sys\n",
    "import os\n",
    "import cv2\n",
    "import numpy as np\n",
    "from matplotlib import pyplot as plt\n",
    "filename='shizi.jpg'\n",
    "image = cv2.imread(filename)\n",
    "image = cv2.cvtColor(image,cv2.COLOR_BGR2GRAY)#将图像转化为灰度图像\n",
    "image = cv2.resize(image,(600,400))\n",
    "plt.figure(figsize=(16,10))\n",
    "\n",
    "#sobel\n",
    "sobelX = cv2.Sobel(image,cv2.CV_64F,1,0)#x方向的梯度\n",
    "sobelY = cv2.Sobel(image,cv2.CV_64F,0,1)#y方向的梯度\n",
    "sobelX = np.uint8(np.absolute(sobelX))#x方向梯度的绝对值\n",
    "sobelY = np.uint8(np.absolute(sobelY))#y方向梯度的绝对值\n",
    "sobelCombined = cv2.bitwise_or(sobelX,sobelY)\n",
    "cv2.imwrite(\"sobel.jpg\",sobelCombined)\n",
    "\n",
    "#拉普拉斯边缘检测\n",
    "lap = cv2.Laplacian(image,cv2.CV_64F,ksize = 3)#拉普拉斯边缘检测\n",
    "lap = np.uint8(np.absolute(lap))##对lap去绝对值\n",
    "cv2.imwrite(\"laplacian.jpg\",lap)\n",
    "\n",
    "#canny\n",
    "canny = cv2.Canny(image, 50, 150)\n",
    "cv2.imwrite(\"canny.jpg\",canny)\n",
    "\n",
    "#prewitt\n",
    "kernelx = np.array([[1,1,1],[0,0,0],[-1,-1,-1]])\n",
    "kernely = np.array([[-1,0,1],[-1,0,1],[-1,0,1]])\n",
    "img_prewittx = cv2.filter2D(image, -1, kernelx)\n",
    "img_prewitty = cv2.filter2D(image, -1, kernely)\n",
    "prewitt = cv2.bitwise_or(img_prewittx,img_prewitty)#\n",
    "cv2.imwrite(\"prewitt.jpg\",canny)\n",
    "\n",
    "plt.subplot(141)\n",
    "plt.title(\"sobel\")\n",
    "plt.imshow(sobelCombined,cmap=\"gray\")\n",
    "plt.subplot(142)\n",
    "plt.title(\"lap\")\n",
    "plt.imshow(lap, cmap=\"gray\")\n",
    "plt.subplot(143)\n",
    "plt.title(\"canny\")\n",
    "plt.imshow(canny, cmap=\"gray\")\n",
    "plt.subplot(144)\n",
    "plt.title(\"prewitt\")\n",
    "plt.imshow(prewitt, cmap=\"gray\")\n",
    "plt.show()"
   ]
  }
 ],
 "metadata": {
  "kernelspec": {
   "display_name": "Python 3",
   "language": "python",
   "name": "python3"
  },
  "language_info": {
   "codemirror_mode": {
    "name": "ipython",
    "version": 3
   },
   "file_extension": ".py",
   "mimetype": "text/x-python",
   "name": "python",
   "nbconvert_exporter": "python",
   "pygments_lexer": "ipython3",
   "version": "3.6.5"
  }
 },
 "nbformat": 4,
 "nbformat_minor": 2
}
